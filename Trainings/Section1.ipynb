{
 "cells": [
  {
   "cell_type": "code",
   "execution_count": 1,
   "metadata": {},
   "outputs": [],
   "source": [
    "import numpy as np\n",
    "import pandas as pd\n",
    "import matplotlib as plt\n",
    "import seaborn as sns"
   ]
  },
  {
   "cell_type": "code",
   "execution_count": 2,
   "metadata": {},
   "outputs": [
    {
     "name": "stdout",
     "output_type": "stream",
     "text": [
      "184     834\n",
      "214     714\n",
      "245     665\n",
      "275     683\n",
      "305     759\n",
      "335     701\n",
      "365     904\n",
      "395     920\n",
      "425     792\n",
      "454     759\n",
      "482     771\n",
      "510     739\n",
      "538     624\n",
      "564     734\n",
      "590     774\n",
      "616     623\n",
      "642     694\n",
      "668     801\n",
      "694     781\n",
      "720     729\n",
      "746     658\n",
      "772     719\n",
      "798     709\n",
      "824     728\n",
      "850     707\n",
      "876     724\n",
      "902     739\n",
      "928     728\n",
      "952     827\n",
      "976     826\n",
      "1000    655\n",
      "1024    648\n",
      "1048    679\n",
      "1072    611\n",
      "1096    611\n",
      "1116    624\n",
      "1136    809\n",
      "1155    723\n",
      "1174    724\n",
      "1194    578\n",
      "1214    827\n",
      "Name: RA, dtype: int64\n"
     ]
    },
    {
     "name": "stderr",
     "output_type": "stream",
     "text": [
      "<>:2: SyntaxWarning: invalid escape sequence '\\S'\n",
      "<>:2: SyntaxWarning: invalid escape sequence '\\S'\n",
      "C:\\Users\\asus\\AppData\\Local\\Temp\\ipykernel_14680\\1103988326.py:2: SyntaxWarning: invalid escape sequence '\\S'\n",
      "  \"D:\\Sadra\\Github projects\\Business Data Analytics & Intelligence with Python\\Business-Data-Analytics---Intelligence-with-Python\\Statistics and Descriptive Analytics\\Basic Statistics\\Baseball.csv\")\n"
     ]
    }
   ],
   "source": [
    "df = pd.read_csv(\n",
    "    \"D:\\Sadra\\Github projects\\Business Data Analytics & Intelligence with Python\\Business-Data-Analytics---Intelligence-with-Python\\Statistics and Descriptive Analytics\\Basic Statistics\\Baseball.csv\")\n",
    "\n",
    "#What are the RA,s of \"CHC\" team until 2007?\n",
    "chcra = df.loc[(df.Team == \"CHC\") & (df.Year < 2007)].RA\n",
    "\n",
    "print(chcra)"
   ]
  },
  {
   "cell_type": "markdown",
   "metadata": {},
   "source": [
    "##Mean"
   ]
  },
  {
   "cell_type": "code",
   "execution_count": 5,
   "metadata": {},
   "outputs": [
    {
     "name": "stdout",
     "output_type": "stream",
     "text": [
      "728.170731707317\n"
     ]
    },
    {
     "name": "stderr",
     "output_type": "stream",
     "text": [
      "<>:2: SyntaxWarning: invalid escape sequence '\\S'\n",
      "<>:2: SyntaxWarning: invalid escape sequence '\\S'\n",
      "C:\\Users\\asus\\AppData\\Local\\Temp\\ipykernel_14680\\1608960564.py:2: SyntaxWarning: invalid escape sequence '\\S'\n",
      "  \"D:\\Sadra\\Github projects\\Business Data Analytics & Intelligence with Python\\Business-Data-Analytics---Intelligence-with-Python\\Statistics and Descriptive Analytics\\Basic Statistics\\Baseball.csv\")\n"
     ]
    }
   ],
   "source": [
    "df = pd.read_csv(\n",
    "    \"D:\\Sadra\\Github projects\\Business Data Analytics & Intelligence with Python\\Business-Data-Analytics---Intelligence-with-Python\\Statistics and Descriptive Analytics\\Basic Statistics\\Baseball.csv\")\n",
    "\n",
    "#What is the mean of RA of \"CHC\" team until 2007?\n",
    "chcra = df.loc[(df.Team == \"CHC\") & (df.Year < 2007)].RA.mean()\n",
    "\n",
    "print(chcra)"
   ]
  },
  {
   "cell_type": "markdown",
   "metadata": {},
   "source": [
    "##Median"
   ]
  },
  {
   "cell_type": "code",
   "execution_count": 19,
   "metadata": {},
   "outputs": [
    {
     "name": "stdout",
     "output_type": "stream",
     "text": [
      "89.0\n"
     ]
    },
    {
     "name": "stderr",
     "output_type": "stream",
     "text": [
      "<>:2: SyntaxWarning: invalid escape sequence '\\S'\n",
      "<>:2: SyntaxWarning: invalid escape sequence '\\S'\n",
      "C:\\Users\\asus\\AppData\\Local\\Temp\\ipykernel_14680\\2928397055.py:2: SyntaxWarning: invalid escape sequence '\\S'\n",
      "  \"D:\\Sadra\\Github projects\\Business Data Analytics & Intelligence with Python\\Business-Data-Analytics---Intelligence-with-Python\\Statistics and Descriptive Analytics\\Basic Statistics\\Baseball.csv\")\n"
     ]
    }
   ],
   "source": [
    "df = pd.read_csv(\n",
    "    \"D:\\Sadra\\Github projects\\Business Data Analytics & Intelligence with Python\\Business-Data-Analytics---Intelligence-with-Python\\Statistics and Descriptive Analytics\\Basic Statistics\\Baseball.csv\")\n",
    "\n",
    "#What is the median of Wins of \"BAL\" team until 2000?\n",
    "bal_med = df.loc[(df.Team == \"BAL\") & (df.Year <= 2000)].W.median()\n",
    "\n",
    "print(bal_med)"
   ]
  },
  {
   "cell_type": "markdown",
   "metadata": {},
   "source": [
    "##Mode"
   ]
  },
  {
   "cell_type": "code",
   "execution_count": 22,
   "metadata": {},
   "outputs": [
    {
     "name": "stdout",
     "output_type": "stream",
     "text": [
      "60    0.325\n",
      "61    0.339\n",
      "62    0.316\n",
      "63    0.339\n",
      "64    0.320\n",
      "65    0.332\n",
      "66    0.338\n",
      "67    0.322\n",
      "68    0.336\n",
      "69    0.335\n",
      "70    0.321\n",
      "71    0.303\n",
      "72    0.331\n",
      "73    0.311\n",
      "74    0.322\n",
      "75    0.335\n",
      "76    0.341\n",
      "77    0.314\n",
      "78    0.350\n",
      "79    0.324\n",
      "80    0.332\n",
      "81    0.304\n",
      "82    0.317\n",
      "83    0.298\n",
      "84    0.321\n",
      "85    0.332\n",
      "86    0.333\n",
      "87    0.338\n",
      "88    0.312\n",
      "89    0.318\n",
      "Name: OBP, dtype: float64\n",
      "0    0.332\n",
      "Name: OBP, dtype: float64\n"
     ]
    },
    {
     "name": "stderr",
     "output_type": "stream",
     "text": [
      "<>:2: SyntaxWarning: invalid escape sequence '\\S'\n",
      "<>:2: SyntaxWarning: invalid escape sequence '\\S'\n",
      "C:\\Users\\asus\\AppData\\Local\\Temp\\ipykernel_14680\\2944420676.py:2: SyntaxWarning: invalid escape sequence '\\S'\n",
      "  \"D:\\Sadra\\Github projects\\Business Data Analytics & Intelligence with Python\\Business-Data-Analytics---Intelligence-with-Python\\Statistics and Descriptive Analytics\\Basic Statistics\\Baseball.csv\")\n"
     ]
    }
   ],
   "source": [
    "df = pd.read_csv(\n",
    "    \"D:\\Sadra\\Github projects\\Business Data Analytics & Intelligence with Python\\Business-Data-Analytics---Intelligence-with-Python\\Statistics and Descriptive Analytics\\Basic Statistics\\Baseball.csv\")\n",
    "\n",
    "#Mode of OBP during year 2010?\n",
    "\n",
    "print(df.loc[df.Year == 2010].OBP)\n",
    "obp_mode = df.loc[(df.Year == 2010)].OBP.mode()\n",
    "print(obp_mode)"
   ]
  },
  {
   "cell_type": "markdown",
   "metadata": {},
   "source": [
    "##Correlation"
   ]
  },
  {
   "cell_type": "code",
   "execution_count": 23,
   "metadata": {},
   "outputs": [
    {
     "name": "stdout",
     "output_type": "stream",
     "text": [
      "    RS   RA   W\n",
      "0  734  688  81\n"
     ]
    }
   ],
   "source": [
    "#Pick variable\n",
    "df_correlation = df[[\"RS\", \"RA\" , \"W\"]]\n",
    "print(df_correlation.head(1))\n"
   ]
  },
  {
   "cell_type": "code",
   "execution_count": 24,
   "metadata": {},
   "outputs": [
    {
     "name": "stdout",
     "output_type": "stream",
     "text": [
      "          RS        RA         W\n",
      "RS  1.000000  0.380139  0.511745\n",
      "RA  0.380139  1.000000 -0.532394\n",
      "W   0.511745 -0.532394  1.000000\n"
     ]
    }
   ],
   "source": [
    "#Correlation matrix\n",
    "print(df_correlation.corr())"
   ]
  },
  {
   "cell_type": "code",
   "execution_count": 27,
   "metadata": {},
   "outputs": [
    {
     "name": "stdout",
     "output_type": "stream",
     "text": [
      "Axes(0.125,0.11;0.62x0.77)\n"
     ]
    },
    {
     "data": {
      "image/png": "[encoded data removed]",
      "text/plain": [
       "<Figure size 640x480 with 2 Axes>"
      ]
     },
     "metadata": {},
     "output_type": "display_data"
    }
   ],
   "source": [
    "#Correlation heatmap\n",
    "import seaborn as sns\n",
    "heat_map = sns.heatmap(data= df_correlation.corr())\n",
    "print(heat_map)"
   ]
  },
  {
   "cell_type": "code",
   "execution_count": 32,
   "metadata": {},
   "outputs": [
    {
     "name": "stdout",
     "output_type": "stream",
     "text": [
      "Axes(0.125,0.11;0.62x0.77)\n"
     ]
    },
    {
     "data": {
      "image/png": "[encoded data removed]",
      "text/plain": [
       "<Figure size 640x480 with 2 Axes>"
      ]
     },
     "metadata": {},
     "output_type": "display_data"
    }
   ],
   "source": [
    "import seaborn as sns\n",
    "heat_map = sns.heatmap(data= df_correlation.corr(),\n",
    "                       annot= True,\n",
    "                       fmt= \".2g\",\n",
    "                       center= 0,\n",
    "                       cmap= \"coolwarm\",\n",
    "                       linewidths= 0.5,\n",
    "                       linecolor= \"black\")\n",
    "print(heat_map)"
   ]
  },
  {
   "cell_type": "code",
   "execution_count": 34,
   "metadata": {},
   "outputs": [
    {
     "name": "stdout",
     "output_type": "stream",
     "text": [
      "Axes(0.125,0.11;0.62x0.77)\n"
     ]
    },
    {
     "data": {
      "text/plain": [
       "<Figure size 640x480 with 2 Axes>"
      ]
     },
     "metadata": {},
     "output_type": "display_data"
    }
   ],
   "source": [
    "#challenge: correlation matrix between OBP, SLG and BA.\n",
    "import seaborn as sns\n",
    "\n",
    "df_correlation2 = df[[\"OBP\", \"SLG\" , \"BA\"]]\n",
    "df_correlation2_heatmap = sns.heatmap(df_correlation2.corr(),\n",
    "                                      annot=True,\n",
    "                                      fmt=\".1g\",\n",
    "                                      cmap= \"rocket\",\n",
    "                                      linewidths=1,\n",
    "                                      linecolor= \"yellow\")\n",
    "print(df_correlation2_heatmap)"
   ]
  }
 ],
 "metadata": {
  "kernelspec": {
   "display_name": "Python 3",
   "language": "python",
   "name": "python3"
  },
  "language_info": {
   "codemirror_mode": {
    "name": "ipython",
    "version": 3
   },
   "file_extension": ".py",
   "mimetype": "text/x-python",
   "name": "python",
   "nbconvert_exporter": "python",
   "pygments_lexer": "ipython3",
   "version": "3.12.5"
  }
 },
 "nbformat": 4,
 "nbformat_minor": 2
}
