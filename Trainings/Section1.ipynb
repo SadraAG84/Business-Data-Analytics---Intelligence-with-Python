{
 "cells": [
  {
   "cell_type": "code",
   "execution_count": 1,
   "metadata": {},
   "outputs": [],
   "source": [
    "import numpy as np\n",
    "import pandas as pd\n",
    "import matplotlib as plt"
   ]
  },
  {
   "cell_type": "code",
   "execution_count": 2,
   "metadata": {},
   "outputs": [
    {
     "name": "stdout",
     "output_type": "stream",
     "text": [
      "184     834\n",
      "214     714\n",
      "245     665\n",
      "275     683\n",
      "305     759\n",
      "335     701\n",
      "365     904\n",
      "395     920\n",
      "425     792\n",
      "454     759\n",
      "482     771\n",
      "510     739\n",
      "538     624\n",
      "564     734\n",
      "590     774\n",
      "616     623\n",
      "642     694\n",
      "668     801\n",
      "694     781\n",
      "720     729\n",
      "746     658\n",
      "772     719\n",
      "798     709\n",
      "824     728\n",
      "850     707\n",
      "876     724\n",
      "902     739\n",
      "928     728\n",
      "952     827\n",
      "976     826\n",
      "1000    655\n",
      "1024    648\n",
      "1048    679\n",
      "1072    611\n",
      "1096    611\n",
      "1116    624\n",
      "1136    809\n",
      "1155    723\n",
      "1174    724\n",
      "1194    578\n",
      "1214    827\n",
      "Name: RA, dtype: int64\n"
     ]
    },
    {
     "name": "stderr",
     "output_type": "stream",
     "text": [
      "<>:2: SyntaxWarning: invalid escape sequence '\\S'\n",
      "<>:2: SyntaxWarning: invalid escape sequence '\\S'\n",
      "C:\\Users\\asus\\AppData\\Local\\Temp\\ipykernel_14680\\1103988326.py:2: SyntaxWarning: invalid escape sequence '\\S'\n",
      "  \"D:\\Sadra\\Github projects\\Business Data Analytics & Intelligence with Python\\Business-Data-Analytics---Intelligence-with-Python\\Statistics and Descriptive Analytics\\Basic Statistics\\Baseball.csv\")\n"
     ]
    }
   ],
   "source": [
    "df = pd.read_csv(\n",
    "    \"D:\\Sadra\\Github projects\\Business Data Analytics & Intelligence with Python\\Business-Data-Analytics---Intelligence-with-Python\\Statistics and Descriptive Analytics\\Basic Statistics\\Baseball.csv\")\n",
    "\n",
    "chcra = df.loc[(df.Team == \"CHC\") & (df.Year < 2007)].RA\n",
    "\n",
    "print(chcra)"
   ]
  },
  {
   "cell_type": "code",
   "execution_count": 5,
   "metadata": {},
   "outputs": [
    {
     "name": "stdout",
     "output_type": "stream",
     "text": [
      "728.170731707317\n"
     ]
    },
    {
     "name": "stderr",
     "output_type": "stream",
     "text": [
      "<>:2: SyntaxWarning: invalid escape sequence '\\S'\n",
      "<>:2: SyntaxWarning: invalid escape sequence '\\S'\n",
      "C:\\Users\\asus\\AppData\\Local\\Temp\\ipykernel_14680\\1608960564.py:2: SyntaxWarning: invalid escape sequence '\\S'\n",
      "  \"D:\\Sadra\\Github projects\\Business Data Analytics & Intelligence with Python\\Business-Data-Analytics---Intelligence-with-Python\\Statistics and Descriptive Analytics\\Basic Statistics\\Baseball.csv\")\n"
     ]
    }
   ],
   "source": [
    "df = pd.read_csv(\n",
    "    \"D:\\Sadra\\Github projects\\Business Data Analytics & Intelligence with Python\\Business-Data-Analytics---Intelligence-with-Python\\Statistics and Descriptive Analytics\\Basic Statistics\\Baseball.csv\")\n",
    "\n",
    "chcra = df.loc[(df.Team == \"CHC\") & (df.Year < 2007)].RA.mean()\n",
    "\n",
    "print(chcra)"
   ]
  }
 ],
 "metadata": {
  "kernelspec": {
   "display_name": "Python 3",
   "language": "python",
   "name": "python3"
  },
  "language_info": {
   "codemirror_mode": {
    "name": "ipython",
    "version": 3
   },
   "file_extension": ".py",
   "mimetype": "text/x-python",
   "name": "python",
   "nbconvert_exporter": "python",
   "pygments_lexer": "ipython3",
   "version": "3.12.5"
  }
 },
 "nbformat": 4,
 "nbformat_minor": 2
}
